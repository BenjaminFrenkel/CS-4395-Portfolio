{
 "cells": [
  {
   "cell_type": "code",
   "execution_count": 183,
   "metadata": {},
   "outputs": [],
   "source": [
    "#Import packages\n",
    "import pandas as pd\n",
    "\n",
    "from nltk.corpus import stopwords\n",
    "\n",
    "from sklearn.feature_extraction.text import TfidfVectorizer\n",
    "from sklearn.naive_bayes import MultinomialNB\n",
    "from sklearn.metrics import accuracy_score, precision_score, recall_score, f1_score, confusion_matrix, log_loss\n",
    "from sklearn.linear_model import LogisticRegression\n",
    "from sklearn.neural_network import MLPClassifier\n",
    "from sklearn.naive_bayes import BernoulliNB\n",
    "from sklearn.pipeline import Pipeline\n",
    "\n",
    "import seaborn as sb"
   ]
  },
  {
   "cell_type": "markdown",
   "metadata": {},
   "source": [
    "About the dataset:\n",
    "I have chosen a dataset that is Rotten Tomatoes Movie Reviews. The dataset is around a size of 10,000. It consists of two\n",
    "columns, the text column contains the review, and the label column indicates if the review was positive (1) or negative (0). The data set was already split up into train and test csv files.\n",
    "\n",
    "We will use the reviews to predict whether the review will be positive or negative."
   ]
  },
  {
   "cell_type": "code",
   "execution_count": 184,
   "metadata": {},
   "outputs": [],
   "source": [
    "#Read in the files\n",
    "train_data = pd.read_csv('train.csv', header=0, usecols=[0,1], encoding='latin-1')\n",
    "test_data = pd.read_csv('test.csv', header=0, usecols=[0,1], encoding='latin-1')\n",
    "\n",
    "#split data into x and y for train and test data\n",
    "X_train = train_data.text\n",
    "Y_train = train_data.label\n",
    "X_test = test_data.text\n",
    "Y_test = test_data.label"
   ]
  },
  {
   "cell_type": "markdown",
   "metadata": {},
   "source": [
    "Graph:"
   ]
  },
  {
   "cell_type": "code",
   "execution_count": 185,
   "metadata": {},
   "outputs": [
    {
     "data": {
      "text/plain": [
       "<seaborn.axisgrid.FacetGrid at 0x1b8e3aa9c40>"
      ]
     },
     "execution_count": 185,
     "metadata": {},
     "output_type": "execute_result"
    },
    {
     "data": {
      "image/png": "[encoded data removed]",
      "text/plain": [
       "<Figure size 500x500 with 1 Axes>"
      ]
     },
     "metadata": {},
     "output_type": "display_data"
    }
   ],
   "source": [
    "#Make graph\n",
    "sb.catplot(data=train_data, x='label', kind='count')"
   ]
  },
  {
   "cell_type": "markdown",
   "metadata": {},
   "source": [
    "Naïve Bayes:"
   ]
  },
  {
   "cell_type": "markdown",
   "metadata": {},
   "source": [
    "Text preprocessing\n",
    "Before applying a machine learning algorithm, the text will be preprocessed by removing stop words and creating a tf-idf representation of the data."
   ]
  },
  {
   "cell_type": "code",
   "execution_count": 186,
   "metadata": {},
   "outputs": [
    {
     "name": "stdout",
     "output_type": "stream",
     "text": [
      "accuracy score:  0.7847091932457786\n",
      "\n",
      "precision score (negative review):  0.7865911237016053\n",
      "precision score (positive review):  0.782851817334576\n",
      "\n",
      "recall score: (negative review) 0.7814258911819888\n",
      "recall score: (positive review) 0.7879924953095685\n",
      "\n",
      "f1 score:  0.785413744740533\n"
     ]
    }
   ],
   "source": [
    "stop_words = set(stopwords.words('english'))\n",
    "vectorizer = TfidfVectorizer(stop_words=stop_words)\n",
    "\n",
    "\n",
    "\n",
    "# apply tfidf vectorizer\n",
    "X1_train = vectorizer.fit_transform(X_train)  # fit and transform the train data\n",
    "X1_test = vectorizer.transform(X_test)        # transform only the test data\n",
    "\n",
    "#train the naive bayes classifier\n",
    "naive_bayes = MultinomialNB()\n",
    "\n",
    "naive_bayes.fit(X1_train, Y_train)\n",
    "\n",
    "# make predictions on the test data\n",
    "pred = naive_bayes.predict(X1_test)\n",
    "\n",
    "print('accuracy score: ', accuracy_score(Y_test, pred))\n",
    "\n",
    "print('\\nprecision score (negative review): ', precision_score(Y_test, pred, pos_label=0))\n",
    "print('precision score (positive review): ', precision_score(Y_test, pred))\n",
    "\n",
    "print('\\nrecall score: (negative review)', recall_score(Y_test, pred, pos_label=0))\n",
    "print('recall score: (positive review)', recall_score(Y_test, pred))\n",
    "\n",
    "print('\\nf1 score: ', f1_score(Y_test, pred))"
   ]
  },
  {
   "cell_type": "markdown",
   "metadata": {},
   "source": [
    "Try #2 Binomial classifier instead of the Multinomial classifier."
   ]
  },
  {
   "cell_type": "code",
   "execution_count": 187,
   "metadata": {},
   "outputs": [
    {
     "name": "stdout",
     "output_type": "stream",
     "text": [
      "accuracy score:  0.7809568480300187\n",
      "\n",
      "precision score (negative review):  0.768609865470852\n",
      "precision score (positive review):  0.7944936086529006\n",
      "\n",
      "recall score: (negative review) 0.8039399624765479\n",
      "recall score: (positive review) 0.7579737335834896\n",
      "\n",
      "f1 score:  0.7758041286605856\n"
     ]
    }
   ],
   "source": [
    "#train the naive bayes classifier\n",
    "naive_bayes = BernoulliNB()\n",
    "\n",
    "naive_bayes.fit(X1_train, Y_train)\n",
    "\n",
    "# make predictions on the test data\n",
    "pred = naive_bayes.predict(X1_test)\n",
    "\n",
    "print('accuracy score: ', accuracy_score(Y_test, pred))\n",
    "\n",
    "print('\\nprecision score (negative review): ', precision_score(Y_test, pred, pos_label=0))\n",
    "print('precision score (positive review): ', precision_score(Y_test, pred))\n",
    "\n",
    "print('\\nrecall score: (negative review)', recall_score(Y_test, pred, pos_label=0))\n",
    "print('recall score: (positive review)', recall_score(Y_test, pred))\n",
    "\n",
    "print('\\nf1 score: ', f1_score(Y_test, pred))"
   ]
  },
  {
   "cell_type": "markdown",
   "metadata": {},
   "source": [
    "Logistic Regression"
   ]
  },
  {
   "cell_type": "code",
   "execution_count": 188,
   "metadata": {},
   "outputs": [
    {
     "name": "stdout",
     "output_type": "stream",
     "text": [
      "accuracy score:  0.7654784240150094\n",
      "precision score:  0.7700381679389313\n",
      "recall score:  0.7570356472795498\n",
      "f1 score:  0.7634815515610218\n",
      "log loss:  0.5296181516289855\n"
     ]
    }
   ],
   "source": [
    "#train\n",
    "classifier = LogisticRegression(solver='lbfgs', class_weight='balanced')\n",
    "classifier.fit(X1_train, Y_train)\n",
    "\n",
    "# evaluate\n",
    "pred = classifier.predict(X1_test)\n",
    "print('accuracy score: ', accuracy_score(Y_test, pred))\n",
    "print('precision score: ', precision_score(Y_test, pred))\n",
    "print('recall score: ', recall_score(Y_test, pred))\n",
    "print('f1 score: ', f1_score(Y_test, pred))\n",
    "probs = classifier.predict_proba(X1_test)\n",
    "print('log loss: ', log_loss(Y_test, probs))"
   ]
  },
  {
   "cell_type": "markdown",
   "metadata": {},
   "source": [
    "Try #2 Using pipelines"
   ]
  },
  {
   "cell_type": "code",
   "execution_count": 189,
   "metadata": {},
   "outputs": [
    {
     "name": "stdout",
     "output_type": "stream",
     "text": [
      "accuracy score:  0.7621951219512195\n",
      "precision score:  0.76\n",
      "recall score:  0.7664165103189493\n",
      "f1 score:  0.7631947687996262\n",
      "log loss:  0.520142462399081\n"
     ]
    }
   ],
   "source": [
    "pipe1 = Pipeline([('tfidf', TfidfVectorizer(binary=True)), ('logreg', LogisticRegression(solver='lbfgs', class_weight='balanced')),])\n",
    "\n",
    "pipe1.fit(X_train, Y_train)\n",
    "\n",
    "pred = pipe1.predict(X_test)\n",
    "print('accuracy score: ', accuracy_score(Y_test, pred))\n",
    "print('precision score: ', precision_score(Y_test, pred))\n",
    "print('recall score: ', recall_score(Y_test, pred))\n",
    "print('f1 score: ', f1_score(Y_test, pred))\n",
    "probs = pipe1.predict_proba(X_test)\n",
    "print('log loss: ', log_loss(Y_test, probs))"
   ]
  },
  {
   "cell_type": "markdown",
   "metadata": {},
   "source": [
    "Neural Networks"
   ]
  },
  {
   "cell_type": "code",
   "execution_count": 191,
   "metadata": {},
   "outputs": [
    {
     "name": "stdout",
     "output_type": "stream",
     "text": [
      "accuracy score:  0.7593808630393997\n",
      "precision score:  0.76109537299339\n",
      "recall score:  0.7560975609756098\n",
      "f1 score:  0.7585882352941176\n"
     ]
    }
   ],
   "source": [
    "#train on the train data\n",
    "classifier = MLPClassifier(solver='lbfgs', alpha=1e-5, hidden_layer_sizes=(15, 10, 5), random_state=1)\n",
    "classifier.fit(X1_train, Y_train)\n",
    "\n",
    "#evaluate\n",
    "pred = classifier.predict(X1_test)\n",
    "print('accuracy score: ', accuracy_score(Y_test, pred))\n",
    "print('precision score: ', precision_score(Y_test, pred))\n",
    "print('recall score: ', recall_score(Y_test, pred))\n",
    "print('f1 score: ', f1_score(Y_test, pred))"
   ]
  },
  {
   "cell_type": "markdown",
   "metadata": {},
   "source": [
    "Analysis:\n",
    "\n",
    "First I tried Naive Bayes and got an accuracy score of 78% (rounded) which is pretty good. I then retried it with\n",
    "a binomial classifier instead of the Multinomial classifier. This resulted in almost the same accuracy score rounded to 78%. So, the classifier appears not to make a huge difference with this data set.\n",
    "\n",
    "Next, I used logistic regression. Logistic regression got an accuracy score rounded to 78% so same as what Naive Bayes got. I tried it again using a pipeline, and this time it got a rounded accuracy score of 76%. So a slight decrease,\n",
    "it appears using the pipeline hurt the accuracy slightly.\n",
    "\n",
    "Finally, I used neural networks and got an accuracy rounded to 76%. This was the lowest accuracy of all 3 models. I tried\n",
    "playing with the solver and the number of layers however neither of these increase the accuracy much. In fact the best solver is clearly 'lbfgs', and adding layers barely increased accuracy."
   ]
  }
 ],
 "metadata": {
  "kernelspec": {
   "display_name": "Python 3 (ipykernel)",
   "language": "python",
   "name": "python3"
  },
  "language_info": {
   "codemirror_mode": {
    "name": "ipython",
    "version": 3
   },
   "file_extension": ".py",
   "mimetype": "text/x-python",
   "name": "python",
   "nbconvert_exporter": "python",
   "pygments_lexer": "ipython3",
   "version": "3.9.5"
  }
 },
 "nbformat": 4,
 "nbformat_minor": 1
}
